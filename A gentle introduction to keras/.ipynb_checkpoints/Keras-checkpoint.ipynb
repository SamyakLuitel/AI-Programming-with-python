{
 "cells": [
  {
   "cell_type": "code",
   "execution_count": 6,
   "metadata": {},
   "outputs": [],
   "source": [
    "from keras.models import Sequential\n",
    "from keras.layers import Dense\n",
    "import numpy as np\n",
    "import pandas as pd"
   ]
  },
  {
   "cell_type": "code",
   "execution_count": 5,
   "metadata": {},
   "outputs": [],
   "source": [
    "seed =7\n",
    "np.random.seed(seed)"
   ]
  },
  {
   "cell_type": "code",
   "execution_count": 8,
   "metadata": {},
   "outputs": [],
   "source": [
    "dataframe = pd.read_csv(\"BBC.csv\")"
   ]
  },
  {
   "cell_type": "code",
   "execution_count": 9,
   "metadata": {},
   "outputs": [
    {
     "data": {
      "text/html": [
       "<div>\n",
       "<style scoped>\n",
       "    .dataframe tbody tr th:only-of-type {\n",
       "        vertical-align: middle;\n",
       "    }\n",
       "\n",
       "    .dataframe tbody tr th {\n",
       "        vertical-align: top;\n",
       "    }\n",
       "\n",
       "    .dataframe thead th {\n",
       "        text-align: right;\n",
       "    }\n",
       "</style>\n",
       "<table border=\"1\" class=\"dataframe\">\n",
       "  <thead>\n",
       "    <tr style=\"text-align: right;\">\n",
       "      <th></th>\n",
       "      <th>MaritalStatus</th>\n",
       "      <th>Gender</th>\n",
       "      <th>YearlyIncome</th>\n",
       "      <th>TotalChildren</th>\n",
       "      <th>NumberChildrenAtHome</th>\n",
       "      <th>EnglishEducation</th>\n",
       "      <th>HouseOwnerFlag</th>\n",
       "      <th>NumberCarsOwned</th>\n",
       "      <th>CommuteDistance</th>\n",
       "      <th>Region</th>\n",
       "      <th>Age</th>\n",
       "      <th>BikeBuyer</th>\n",
       "    </tr>\n",
       "  </thead>\n",
       "  <tbody>\n",
       "    <tr>\n",
       "      <th>0</th>\n",
       "      <td>5</td>\n",
       "      <td>1</td>\n",
       "      <td>90000</td>\n",
       "      <td>2</td>\n",
       "      <td>0</td>\n",
       "      <td>5</td>\n",
       "      <td>1</td>\n",
       "      <td>0</td>\n",
       "      <td>2</td>\n",
       "      <td>2</td>\n",
       "      <td>50</td>\n",
       "      <td>1</td>\n",
       "    </tr>\n",
       "    <tr>\n",
       "      <th>1</th>\n",
       "      <td>5</td>\n",
       "      <td>1</td>\n",
       "      <td>60000</td>\n",
       "      <td>3</td>\n",
       "      <td>3</td>\n",
       "      <td>5</td>\n",
       "      <td>0</td>\n",
       "      <td>1</td>\n",
       "      <td>1</td>\n",
       "      <td>2</td>\n",
       "      <td>51</td>\n",
       "      <td>1</td>\n",
       "    </tr>\n",
       "    <tr>\n",
       "      <th>2</th>\n",
       "      <td>5</td>\n",
       "      <td>1</td>\n",
       "      <td>60000</td>\n",
       "      <td>3</td>\n",
       "      <td>3</td>\n",
       "      <td>5</td>\n",
       "      <td>1</td>\n",
       "      <td>1</td>\n",
       "      <td>5</td>\n",
       "      <td>2</td>\n",
       "      <td>51</td>\n",
       "      <td>1</td>\n",
       "    </tr>\n",
       "    <tr>\n",
       "      <th>3</th>\n",
       "      <td>5</td>\n",
       "      <td>2</td>\n",
       "      <td>70000</td>\n",
       "      <td>0</td>\n",
       "      <td>0</td>\n",
       "      <td>5</td>\n",
       "      <td>0</td>\n",
       "      <td>1</td>\n",
       "      <td>10</td>\n",
       "      <td>2</td>\n",
       "      <td>49</td>\n",
       "      <td>1</td>\n",
       "    </tr>\n",
       "    <tr>\n",
       "      <th>4</th>\n",
       "      <td>5</td>\n",
       "      <td>2</td>\n",
       "      <td>80000</td>\n",
       "      <td>5</td>\n",
       "      <td>5</td>\n",
       "      <td>5</td>\n",
       "      <td>1</td>\n",
       "      <td>4</td>\n",
       "      <td>2</td>\n",
       "      <td>2</td>\n",
       "      <td>48</td>\n",
       "      <td>1</td>\n",
       "    </tr>\n",
       "  </tbody>\n",
       "</table>\n",
       "</div>"
      ],
      "text/plain": [
       "   MaritalStatus  Gender  YearlyIncome  TotalChildren  NumberChildrenAtHome  \\\n",
       "0              5       1         90000              2                     0   \n",
       "1              5       1         60000              3                     3   \n",
       "2              5       1         60000              3                     3   \n",
       "3              5       2         70000              0                     0   \n",
       "4              5       2         80000              5                     5   \n",
       "\n",
       "   EnglishEducation  HouseOwnerFlag  NumberCarsOwned  CommuteDistance  Region  \\\n",
       "0                 5               1                0                2       2   \n",
       "1                 5               0                1                1       2   \n",
       "2                 5               1                1                5       2   \n",
       "3                 5               0                1               10       2   \n",
       "4                 5               1                4                2       2   \n",
       "\n",
       "   Age  BikeBuyer  \n",
       "0   50          1  \n",
       "1   51          1  \n",
       "2   51          1  \n",
       "3   49          1  \n",
       "4   48          1  "
      ]
     },
     "execution_count": 9,
     "metadata": {},
     "output_type": "execute_result"
    }
   ],
   "source": [
    "dataframe.head()"
   ]
  },
  {
   "cell_type": "code",
   "execution_count": 10,
   "metadata": {},
   "outputs": [],
   "source": [
    "array = dataframe.values"
   ]
  },
  {
   "cell_type": "code",
   "execution_count": 13,
   "metadata": {},
   "outputs": [],
   "source": [
    "X = array[:,0:11]  # array for data set\n",
    "Y = array[:,11] #array for target variable"
   ]
  },
  {
   "cell_type": "markdown",
   "metadata": {},
   "source": [
    "# defining Keras Model\n",
    "\n",
    "## Building model\n",
    "- the first layer has 11 neurons and expects 11 input variables\n",
    "- the second hidden layer has 8 neurons.\n",
    "- the third hidden layer has 8 neurons.\n",
    "- the output layer has 1 neoron to predict the class.\n"
   ]
  },
  {
   "cell_type": "code",
   "execution_count": 14,
   "metadata": {},
   "outputs": [
    {
     "name": "stderr",
     "output_type": "stream",
     "text": [
      "/home/samyak/anaconda3/lib/python3.7/site-packages/ipykernel_launcher.py:2: UserWarning: Update your `Dense` call to the Keras 2 API: `Dense(11, input_dim=11, activation=\"relu\", kernel_initializer=\"uniform\")`\n",
      "  \n",
      "/home/samyak/anaconda3/lib/python3.7/site-packages/ipykernel_launcher.py:3: UserWarning: Update your `Dense` call to the Keras 2 API: `Dense(8, activation=\"relu\", kernel_initializer=\"uniform\")`\n",
      "  This is separate from the ipykernel package so we can avoid doing imports until\n",
      "/home/samyak/anaconda3/lib/python3.7/site-packages/ipykernel_launcher.py:4: UserWarning: Update your `Dense` call to the Keras 2 API: `Dense(1, activation=\"sigmoid\", kernel_initializer=\"uniform\")`\n",
      "  after removing the cwd from sys.path.\n"
     ]
    }
   ],
   "source": [
    "model = Sequential()\n",
    "model.add(Dense(11, input_dim =11, init = \"uniform\", activation = \"relu\"))\n",
    "model.add(Dense(8, init= \"uniform\", activation= \"relu\"))\n",
    "model.add(Dense(1, init =\"uniform\", activation = \"sigmoid\"))"
   ]
  },
  {
   "cell_type": "markdown",
   "metadata": {},
   "source": [
    "# compile the model"
   ]
  },
  {
   "cell_type": "code",
   "execution_count": 16,
   "metadata": {},
   "outputs": [],
   "source": [
    "model.compile(loss=\"binary_crossentropy\", optimizer ='adam', metrics =['accuracy'])"
   ]
  },
  {
   "cell_type": "markdown",
   "metadata": {},
   "source": [
    "# fit the Model"
   ]
  },
  {
   "cell_type": "code",
   "execution_count": 17,
   "metadata": {},
   "outputs": [
    {
     "name": "stderr",
     "output_type": "stream",
     "text": [
      "/home/samyak/anaconda3/lib/python3.7/site-packages/ipykernel_launcher.py:1: UserWarning: The `nb_epoch` argument in `fit` has been renamed `epochs`.\n",
      "  \"\"\"Entry point for launching an IPython kernel.\n"
     ]
    },
    {
     "name": "stdout",
     "output_type": "stream",
     "text": [
      "Epoch 1/50\n",
      "18484/18484 [==============================] - 2s 106us/step - loss: 0.6938 - accuracy: 0.4991\n",
      "Epoch 2/50\n",
      "18484/18484 [==============================] - 2s 97us/step - loss: 0.6931 - accuracy: 0.5060\n",
      "Epoch 3/50\n",
      "18484/18484 [==============================] - 2s 92us/step - loss: 0.6931 - accuracy: 0.5051\n",
      "Epoch 4/50\n",
      "18484/18484 [==============================] - 2s 95us/step - loss: 0.6931 - accuracy: 0.5030\n",
      "Epoch 5/50\n",
      "18484/18484 [==============================] - 2s 92us/step - loss: 0.6931 - accuracy: 0.5051\n",
      "Epoch 6/50\n",
      "18484/18484 [==============================] - 2s 91us/step - loss: 0.6931 - accuracy: 0.5060\n",
      "Epoch 7/50\n",
      "18484/18484 [==============================] - 2s 94us/step - loss: 0.6931 - accuracy: 0.5050\n",
      "Epoch 8/50\n",
      "18484/18484 [==============================] - 2s 101us/step - loss: 0.6931 - accuracy: 0.5060\n",
      "Epoch 9/50\n",
      "18484/18484 [==============================] - 2s 101us/step - loss: 0.6931 - accuracy: 0.5060\n",
      "Epoch 10/50\n",
      "18484/18484 [==============================] - 2s 97us/step - loss: 0.6931 - accuracy: 0.5060\n",
      "Epoch 11/50\n",
      "18484/18484 [==============================] - 2s 97us/step - loss: 0.6931 - accuracy: 0.5052\n",
      "Epoch 12/50\n",
      "18484/18484 [==============================] - 2s 96us/step - loss: 0.6931 - accuracy: 0.5060\n",
      "Epoch 13/50\n",
      "18484/18484 [==============================] - 2s 97us/step - loss: 0.6931 - accuracy: 0.5060\n",
      "Epoch 14/50\n",
      "18484/18484 [==============================] - 2s 98us/step - loss: 0.6931 - accuracy: 0.5060\n",
      "Epoch 15/50\n",
      "18484/18484 [==============================] - 2s 100us/step - loss: 0.6931 - accuracy: 0.5011\n",
      "Epoch 16/50\n",
      "18484/18484 [==============================] - 2s 98us/step - loss: 0.6931 - accuracy: 0.5043\n",
      "Epoch 17/50\n",
      "18484/18484 [==============================] - 2s 98us/step - loss: 0.6931 - accuracy: 0.5060\n",
      "Epoch 18/50\n",
      "18484/18484 [==============================] - 2s 101us/step - loss: 0.6931 - accuracy: 0.5045\n",
      "Epoch 19/50\n",
      "18484/18484 [==============================] - 2s 101us/step - loss: 0.6931 - accuracy: 0.5048\n",
      "Epoch 20/50\n",
      "18484/18484 [==============================] - 2s 95us/step - loss: 0.6931 - accuracy: 0.5060\n",
      "Epoch 21/50\n",
      "18484/18484 [==============================] - 2s 93us/step - loss: 0.6931 - accuracy: 0.5053\n",
      "Epoch 22/50\n",
      "18484/18484 [==============================] - 2s 101us/step - loss: 0.6931 - accuracy: 0.5058\n",
      "Epoch 23/50\n",
      "18484/18484 [==============================] - 2s 100us/step - loss: 0.6931 - accuracy: 0.5060\n",
      "Epoch 24/50\n",
      "18484/18484 [==============================] - 2s 101us/step - loss: 0.6931 - accuracy: 0.5060\n",
      "Epoch 25/50\n",
      "18484/18484 [==============================] - 2s 94us/step - loss: 0.6931 - accuracy: 0.5060\n",
      "Epoch 26/50\n",
      "18484/18484 [==============================] - 2s 100us/step - loss: 0.6932 - accuracy: 0.5060\n",
      "Epoch 27/50\n",
      "18484/18484 [==============================] - 3s 148us/step - loss: 0.6931 - accuracy: 0.5060\n",
      "Epoch 28/50\n",
      "18484/18484 [==============================] - 2s 131us/step - loss: 0.6931 - accuracy: 0.5036\n",
      "Epoch 29/50\n",
      "18484/18484 [==============================] - 2s 132us/step - loss: 0.6931 - accuracy: 0.5060\n",
      "Epoch 30/50\n",
      "18484/18484 [==============================] - 2s 134us/step - loss: 0.6931 - accuracy: 0.5060\n",
      "Epoch 31/50\n",
      "18484/18484 [==============================] - 2s 134us/step - loss: 0.6932 - accuracy: 0.5052\n",
      "Epoch 32/50\n",
      "18484/18484 [==============================] - 3s 136us/step - loss: 0.6931 - accuracy: 0.5060\n",
      "Epoch 33/50\n",
      "18484/18484 [==============================] - 2s 132us/step - loss: 0.6931 - accuracy: 0.5050\n",
      "Epoch 34/50\n",
      "18484/18484 [==============================] - 2s 135us/step - loss: 0.6931 - accuracy: 0.5060\n",
      "Epoch 35/50\n",
      "18484/18484 [==============================] - 2s 131us/step - loss: 0.6931 - accuracy: 0.5060\n",
      "Epoch 36/50\n",
      "18484/18484 [==============================] - 2s 127us/step - loss: 0.6931 - accuracy: 0.5060\n",
      "Epoch 37/50\n",
      "18484/18484 [==============================] - 2s 131us/step - loss: 0.6931 - accuracy: 0.5060\n",
      "Epoch 38/50\n",
      "18484/18484 [==============================] - 2s 121us/step - loss: 0.6931 - accuracy: 0.5049\n",
      "Epoch 39/50\n",
      "18484/18484 [==============================] - 2s 111us/step - loss: 0.6931 - accuracy: 0.5060\n",
      "Epoch 40/50\n",
      "18484/18484 [==============================] - 2s 115us/step - loss: 0.6931 - accuracy: 0.5050\n",
      "Epoch 41/50\n",
      "18484/18484 [==============================] - 3s 143us/step - loss: 0.6932 - accuracy: 0.5060\n",
      "Epoch 42/50\n",
      "18484/18484 [==============================] - 2s 128us/step - loss: 0.6931 - accuracy: 0.5048\n",
      "Epoch 43/50\n",
      "18484/18484 [==============================] - 2s 131us/step - loss: 0.6931 - accuracy: 0.5060\n",
      "Epoch 44/50\n",
      "18484/18484 [==============================] - 3s 161us/step - loss: 0.6931 - accuracy: 0.5060\n",
      "Epoch 45/50\n",
      "18484/18484 [==============================] - 3s 145us/step - loss: 0.6931 - accuracy: 0.5060\n",
      "Epoch 46/50\n",
      "18484/18484 [==============================] - 3s 146us/step - loss: 0.6931 - accuracy: 0.5060\n",
      "Epoch 47/50\n",
      "18484/18484 [==============================] - 3s 137us/step - loss: 0.6931 - accuracy: 0.5061\n",
      "Epoch 48/50\n",
      "18484/18484 [==============================] - 3s 139us/step - loss: 0.6932 - accuracy: 0.5010\n",
      "Epoch 49/50\n",
      "18484/18484 [==============================] - 3s 139us/step - loss: 0.6932 - accuracy: 0.5060\n",
      "Epoch 50/50\n",
      "18484/18484 [==============================] - 3s 136us/step - loss: 0.6931 - accuracy: 0.5045\n"
     ]
    },
    {
     "data": {
      "text/plain": [
       "<keras.callbacks.callbacks.History at 0x7f821b465410>"
      ]
     },
     "execution_count": 17,
     "metadata": {},
     "output_type": "execute_result"
    }
   ],
   "source": [
    "model.fit(X,Y,nb_epoch = 50, batch_size =10)"
   ]
  },
  {
   "cell_type": "markdown",
   "metadata": {},
   "source": [
    "# Score the Model\n"
   ]
  },
  {
   "cell_type": "code",
   "execution_count": 18,
   "metadata": {},
   "outputs": [
    {
     "name": "stdout",
     "output_type": "stream",
     "text": [
      "18484/18484 [==============================] - 0s 13us/step\n",
      "accuracy: 50.59511065483093\n"
     ]
    }
   ],
   "source": [
    "scores = model.evaluate(X,Y)\n",
    "print(\"{}: {}\".format(model.metrics_names[1],scores[1]*100))"
   ]
  },
  {
   "cell_type": "markdown",
   "metadata": {},
   "source": [
    "As we can see that the accuracy of bodel is not good ,  what we need to do , to increase accuracy of the model is using normalized data"
   ]
  },
  {
   "cell_type": "code",
   "execution_count": 19,
   "metadata": {},
   "outputs": [],
   "source": [
    "dataframe = pd.read_csv(\"BBCN.csv\")"
   ]
  },
  {
   "cell_type": "code",
   "execution_count": 21,
   "metadata": {},
   "outputs": [
    {
     "data": {
      "text/html": [
       "<div>\n",
       "<style scoped>\n",
       "    .dataframe tbody tr th:only-of-type {\n",
       "        vertical-align: middle;\n",
       "    }\n",
       "\n",
       "    .dataframe tbody tr th {\n",
       "        vertical-align: top;\n",
       "    }\n",
       "\n",
       "    .dataframe thead th {\n",
       "        text-align: right;\n",
       "    }\n",
       "</style>\n",
       "<table border=\"1\" class=\"dataframe\">\n",
       "  <thead>\n",
       "    <tr style=\"text-align: right;\">\n",
       "      <th></th>\n",
       "      <th>MaritalStatus</th>\n",
       "      <th>Gender</th>\n",
       "      <th>YearlyIncome</th>\n",
       "      <th>TotalChildren</th>\n",
       "      <th>NumberChildrenAtHome</th>\n",
       "      <th>EnglishEducation</th>\n",
       "      <th>HouseOwnerFlag</th>\n",
       "      <th>NumberCarsOwned</th>\n",
       "      <th>CommuteDistance</th>\n",
       "      <th>Region</th>\n",
       "      <th>Age</th>\n",
       "      <th>BikeBuyer</th>\n",
       "    </tr>\n",
       "  </thead>\n",
       "  <tbody>\n",
       "    <tr>\n",
       "      <th>0</th>\n",
       "      <td>5</td>\n",
       "      <td>1</td>\n",
       "      <td>9.0</td>\n",
       "      <td>2</td>\n",
       "      <td>0</td>\n",
       "      <td>5</td>\n",
       "      <td>1</td>\n",
       "      <td>0</td>\n",
       "      <td>2</td>\n",
       "      <td>2</td>\n",
       "      <td>5</td>\n",
       "      <td>1</td>\n",
       "    </tr>\n",
       "    <tr>\n",
       "      <th>1</th>\n",
       "      <td>5</td>\n",
       "      <td>1</td>\n",
       "      <td>6.0</td>\n",
       "      <td>3</td>\n",
       "      <td>3</td>\n",
       "      <td>5</td>\n",
       "      <td>0</td>\n",
       "      <td>1</td>\n",
       "      <td>1</td>\n",
       "      <td>2</td>\n",
       "      <td>4</td>\n",
       "      <td>1</td>\n",
       "    </tr>\n",
       "    <tr>\n",
       "      <th>2</th>\n",
       "      <td>5</td>\n",
       "      <td>1</td>\n",
       "      <td>6.0</td>\n",
       "      <td>3</td>\n",
       "      <td>3</td>\n",
       "      <td>5</td>\n",
       "      <td>1</td>\n",
       "      <td>1</td>\n",
       "      <td>5</td>\n",
       "      <td>2</td>\n",
       "      <td>4</td>\n",
       "      <td>1</td>\n",
       "    </tr>\n",
       "    <tr>\n",
       "      <th>3</th>\n",
       "      <td>5</td>\n",
       "      <td>2</td>\n",
       "      <td>7.0</td>\n",
       "      <td>0</td>\n",
       "      <td>0</td>\n",
       "      <td>5</td>\n",
       "      <td>0</td>\n",
       "      <td>1</td>\n",
       "      <td>10</td>\n",
       "      <td>2</td>\n",
       "      <td>5</td>\n",
       "      <td>1</td>\n",
       "    </tr>\n",
       "    <tr>\n",
       "      <th>4</th>\n",
       "      <td>5</td>\n",
       "      <td>2</td>\n",
       "      <td>8.0</td>\n",
       "      <td>5</td>\n",
       "      <td>5</td>\n",
       "      <td>5</td>\n",
       "      <td>1</td>\n",
       "      <td>4</td>\n",
       "      <td>2</td>\n",
       "      <td>2</td>\n",
       "      <td>5</td>\n",
       "      <td>1</td>\n",
       "    </tr>\n",
       "  </tbody>\n",
       "</table>\n",
       "</div>"
      ],
      "text/plain": [
       "   MaritalStatus  Gender  YearlyIncome  TotalChildren  NumberChildrenAtHome  \\\n",
       "0              5       1           9.0              2                     0   \n",
       "1              5       1           6.0              3                     3   \n",
       "2              5       1           6.0              3                     3   \n",
       "3              5       2           7.0              0                     0   \n",
       "4              5       2           8.0              5                     5   \n",
       "\n",
       "   EnglishEducation  HouseOwnerFlag  NumberCarsOwned  CommuteDistance  Region  \\\n",
       "0                 5               1                0                2       2   \n",
       "1                 5               0                1                1       2   \n",
       "2                 5               1                1                5       2   \n",
       "3                 5               0                1               10       2   \n",
       "4                 5               1                4                2       2   \n",
       "\n",
       "   Age  BikeBuyer  \n",
       "0    5          1  \n",
       "1    4          1  \n",
       "2    4          1  \n",
       "3    5          1  \n",
       "4    5          1  "
      ]
     },
     "execution_count": 21,
     "metadata": {},
     "output_type": "execute_result"
    }
   ],
   "source": [
    "dataframe.head()"
   ]
  },
  {
   "cell_type": "code",
   "execution_count": 22,
   "metadata": {},
   "outputs": [],
   "source": [
    "array = dataframe.values"
   ]
  },
  {
   "cell_type": "code",
   "execution_count": 23,
   "metadata": {},
   "outputs": [],
   "source": [
    "X = array[:,0:11]  # array for data set\n",
    "Y = array[:,11] #array for target variable"
   ]
  },
  {
   "cell_type": "code",
   "execution_count": 24,
   "metadata": {},
   "outputs": [
    {
     "name": "stderr",
     "output_type": "stream",
     "text": [
      "/home/samyak/anaconda3/lib/python3.7/site-packages/ipykernel_launcher.py:2: UserWarning: Update your `Dense` call to the Keras 2 API: `Dense(11, input_dim=11, activation=\"relu\", kernel_initializer=\"uniform\")`\n",
      "  \n",
      "/home/samyak/anaconda3/lib/python3.7/site-packages/ipykernel_launcher.py:3: UserWarning: Update your `Dense` call to the Keras 2 API: `Dense(8, activation=\"relu\", kernel_initializer=\"uniform\")`\n",
      "  This is separate from the ipykernel package so we can avoid doing imports until\n",
      "/home/samyak/anaconda3/lib/python3.7/site-packages/ipykernel_launcher.py:4: UserWarning: Update your `Dense` call to the Keras 2 API: `Dense(1, activation=\"sigmoid\", kernel_initializer=\"uniform\")`\n",
      "  after removing the cwd from sys.path.\n"
     ]
    }
   ],
   "source": [
    "model = Sequential()\n",
    "model.add(Dense(11, input_dim =11, init = \"uniform\", activation = \"relu\"))\n",
    "model.add(Dense(8, init= \"uniform\", activation= \"relu\"))\n",
    "model.add(Dense(1, init =\"uniform\", activation = \"sigmoid\"))"
   ]
  },
  {
   "cell_type": "code",
   "execution_count": 25,
   "metadata": {},
   "outputs": [],
   "source": [
    "model.compile(loss=\"binary_crossentropy\", optimizer ='adam', metrics =['accuracy'])"
   ]
  },
  {
   "cell_type": "code",
   "execution_count": 26,
   "metadata": {},
   "outputs": [
    {
     "name": "stderr",
     "output_type": "stream",
     "text": [
      "/home/samyak/anaconda3/lib/python3.7/site-packages/ipykernel_launcher.py:1: UserWarning: The `nb_epoch` argument in `fit` has been renamed `epochs`.\n",
      "  \"\"\"Entry point for launching an IPython kernel.\n"
     ]
    },
    {
     "name": "stdout",
     "output_type": "stream",
     "text": [
      "Epoch 1/50\n",
      "500/500 [==============================] - 0s 314us/step - loss: 0.6929 - accuracy: 0.5340\n",
      "Epoch 2/50\n",
      "500/500 [==============================] - 0s 103us/step - loss: 0.6923 - accuracy: 0.5340\n",
      "Epoch 3/50\n",
      "500/500 [==============================] - 0s 95us/step - loss: 0.6918 - accuracy: 0.5340\n",
      "Epoch 4/50\n",
      "500/500 [==============================] - 0s 100us/step - loss: 0.6906 - accuracy: 0.5340\n",
      "Epoch 5/50\n",
      "500/500 [==============================] - 0s 101us/step - loss: 0.6861 - accuracy: 0.5340\n",
      "Epoch 6/50\n",
      "500/500 [==============================] - 0s 101us/step - loss: 0.6825 - accuracy: 0.5340\n",
      "Epoch 7/50\n",
      "500/500 [==============================] - 0s 119us/step - loss: 0.6749 - accuracy: 0.5340\n",
      "Epoch 8/50\n",
      "500/500 [==============================] - 0s 125us/step - loss: 0.6696 - accuracy: 0.5340\n",
      "Epoch 9/50\n",
      "500/500 [==============================] - 0s 118us/step - loss: 0.6654 - accuracy: 0.5340\n",
      "Epoch 10/50\n",
      "500/500 [==============================] - 0s 106us/step - loss: 0.6634 - accuracy: 0.5720\n",
      "Epoch 11/50\n",
      "500/500 [==============================] - 0s 99us/step - loss: 0.6601 - accuracy: 0.6080\n",
      "Epoch 12/50\n",
      "500/500 [==============================] - 0s 101us/step - loss: 0.6617 - accuracy: 0.6020\n",
      "Epoch 13/50\n",
      "500/500 [==============================] - 0s 114us/step - loss: 0.6561 - accuracy: 0.6220\n",
      "Epoch 14/50\n",
      "500/500 [==============================] - 0s 108us/step - loss: 0.6546 - accuracy: 0.6080\n",
      "Epoch 15/50\n",
      "500/500 [==============================] - 0s 147us/step - loss: 0.6539 - accuracy: 0.6100\n",
      "Epoch 16/50\n",
      "500/500 [==============================] - 0s 155us/step - loss: 0.6514 - accuracy: 0.6080\n",
      "Epoch 17/50\n",
      "500/500 [==============================] - 0s 157us/step - loss: 0.6509 - accuracy: 0.6180\n",
      "Epoch 18/50\n",
      "500/500 [==============================] - 0s 127us/step - loss: 0.6486 - accuracy: 0.6080\n",
      "Epoch 19/50\n",
      "500/500 [==============================] - 0s 129us/step - loss: 0.6464 - accuracy: 0.6140\n",
      "Epoch 20/50\n",
      "500/500 [==============================] - 0s 122us/step - loss: 0.6480 - accuracy: 0.6180\n",
      "Epoch 21/50\n",
      "500/500 [==============================] - 0s 113us/step - loss: 0.6438 - accuracy: 0.6140\n",
      "Epoch 22/50\n",
      "500/500 [==============================] - 0s 118us/step - loss: 0.6445 - accuracy: 0.6160\n",
      "Epoch 23/50\n",
      "500/500 [==============================] - 0s 104us/step - loss: 0.6446 - accuracy: 0.5960\n",
      "Epoch 24/50\n",
      "500/500 [==============================] - 0s 99us/step - loss: 0.6414 - accuracy: 0.6180\n",
      "Epoch 25/50\n",
      "500/500 [==============================] - 0s 100us/step - loss: 0.6446 - accuracy: 0.6160\n",
      "Epoch 26/50\n",
      "500/500 [==============================] - 0s 102us/step - loss: 0.6427 - accuracy: 0.6200\n",
      "Epoch 27/50\n",
      "500/500 [==============================] - 0s 99us/step - loss: 0.6411 - accuracy: 0.6000\n",
      "Epoch 28/50\n",
      "500/500 [==============================] - 0s 126us/step - loss: 0.6446 - accuracy: 0.6180\n",
      "Epoch 29/50\n",
      "500/500 [==============================] - 0s 102us/step - loss: 0.6404 - accuracy: 0.5940\n",
      "Epoch 30/50\n",
      "500/500 [==============================] - 0s 111us/step - loss: 0.6363 - accuracy: 0.6240\n",
      "Epoch 31/50\n",
      "500/500 [==============================] - 0s 109us/step - loss: 0.6390 - accuracy: 0.6160\n",
      "Epoch 32/50\n",
      "500/500 [==============================] - 0s 112us/step - loss: 0.6352 - accuracy: 0.6140\n",
      "Epoch 33/50\n",
      "500/500 [==============================] - 0s 117us/step - loss: 0.6334 - accuracy: 0.6240\n",
      "Epoch 34/50\n",
      "500/500 [==============================] - 0s 103us/step - loss: 0.6364 - accuracy: 0.6220\n",
      "Epoch 35/50\n",
      "500/500 [==============================] - 0s 125us/step - loss: 0.6334 - accuracy: 0.6100\n",
      "Epoch 36/50\n",
      "500/500 [==============================] - 0s 155us/step - loss: 0.6307 - accuracy: 0.6180\n",
      "Epoch 37/50\n",
      "500/500 [==============================] - 0s 149us/step - loss: 0.6347 - accuracy: 0.6200\n",
      "Epoch 38/50\n",
      "500/500 [==============================] - 0s 130us/step - loss: 0.6312 - accuracy: 0.6220\n",
      "Epoch 39/50\n",
      "500/500 [==============================] - 0s 136us/step - loss: 0.6307 - accuracy: 0.6260\n",
      "Epoch 40/50\n",
      "500/500 [==============================] - 0s 110us/step - loss: 0.6308 - accuracy: 0.6060\n",
      "Epoch 41/50\n",
      "500/500 [==============================] - 0s 100us/step - loss: 0.6329 - accuracy: 0.6120\n",
      "Epoch 42/50\n",
      "500/500 [==============================] - 0s 102us/step - loss: 0.6289 - accuracy: 0.6260\n",
      "Epoch 43/50\n",
      "500/500 [==============================] - 0s 124us/step - loss: 0.6277 - accuracy: 0.6260\n",
      "Epoch 44/50\n",
      "500/500 [==============================] - 0s 137us/step - loss: 0.6279 - accuracy: 0.6280\n",
      "Epoch 45/50\n",
      "500/500 [==============================] - 0s 134us/step - loss: 0.6307 - accuracy: 0.6020\n",
      "Epoch 46/50\n",
      "500/500 [==============================] - 0s 125us/step - loss: 0.6258 - accuracy: 0.6320\n",
      "Epoch 47/50\n",
      "500/500 [==============================] - 0s 129us/step - loss: 0.6299 - accuracy: 0.6200\n",
      "Epoch 48/50\n",
      "500/500 [==============================] - 0s 141us/step - loss: 0.6231 - accuracy: 0.6300\n",
      "Epoch 49/50\n",
      "500/500 [==============================] - 0s 120us/step - loss: 0.6255 - accuracy: 0.6180\n",
      "Epoch 50/50\n",
      "500/500 [==============================] - 0s 109us/step - loss: 0.6268 - accuracy: 0.6180\n"
     ]
    },
    {
     "data": {
      "text/plain": [
       "<keras.callbacks.callbacks.History at 0x7f8218088dd0>"
      ]
     },
     "execution_count": 26,
     "metadata": {},
     "output_type": "execute_result"
    }
   ],
   "source": [
    "model.fit(X,Y,nb_epoch = 50, batch_size =10)"
   ]
  },
  {
   "cell_type": "code",
   "execution_count": 27,
   "metadata": {},
   "outputs": [
    {
     "name": "stdout",
     "output_type": "stream",
     "text": [
      "500/500 [==============================] - 0s 63us/step\n",
      "accuracy: 63.40000033378601\n"
     ]
    }
   ],
   "source": [
    "scores = model.evaluate(X,Y)\n",
    "print(\"{}: {}\".format(model.metrics_names[1],scores[1]*100))"
   ]
  },
  {
   "cell_type": "code",
   "execution_count": null,
   "metadata": {},
   "outputs": [],
   "source": []
  }
 ],
 "metadata": {
  "kernelspec": {
   "display_name": "Python 3",
   "language": "python",
   "name": "python3"
  },
  "language_info": {
   "codemirror_mode": {
    "name": "ipython",
    "version": 3
   },
   "file_extension": ".py",
   "mimetype": "text/x-python",
   "name": "python",
   "nbconvert_exporter": "python",
   "pygments_lexer": "ipython3",
   "version": "3.7.4"
  }
 },
 "nbformat": 4,
 "nbformat_minor": 2
}
